{
 "cells": [
  {
   "cell_type": "markdown",
   "metadata": {},
   "source": [
    "# ML Project 3  \n",
    "Joseph Bentivegna  \n",
    "Professor Keene  \n",
    "10/24/17  "
   ]
  },
  {
   "cell_type": "code",
   "execution_count": 1,
   "metadata": {
    "collapsed": true
   },
   "outputs": [],
   "source": [
    "import numpy as np\n",
    "import matplotlib.pyplot as plt"
   ]
  },
  {
   "cell_type": "code",
   "execution_count": 2,
   "metadata": {
    "collapsed": true
   },
   "outputs": [],
   "source": [
    "# setup observations\n",
    "numObs = 100\n",
    "ratio = .5\n",
    "N1 = int(numObs*ratio)\n",
    "N2 = int(numObs*(1-ratio))\n",
    "\n",
    "# setup mean and cov\n",
    "C1Mean = np.array([1, 1])\n",
    "C2Mean = np.array([-1, -1])\n",
    "SD = np.identity(2)\n",
    "\n",
    "C1class = np.ones(N2)\n",
    "C2class = np.zeros(N1)\n",
    "\n",
    "C1points = np.random.multivariate_normal(C1Mean, SD, N1)\n",
    "C2points = np.random.multivariate_normal(C2Mean, SD, N2)\n",
    "\n",
    "C1 = np.append(C1points.transpose(), np.atleast_2d(C1class), axis=0)\n",
    "C2 = np.append(C2points.transpose(), np.atleast_2d(C2class), axis=0)\n",
    "\n",
    "# setup combined matrix with truth values\n",
    "combined = np.append(C1, C2, axis = 1)\n",
    "obs = np.random.permutation(combined.T).T"
   ]
  },
  {
   "cell_type": "markdown",
   "metadata": {},
   "source": [
    "## Gaussian Generative Model"
   ]
  },
  {
   "cell_type": "code",
   "execution_count": 3,
   "metadata": {
    "collapsed": true,
    "scrolled": false
   },
   "outputs": [],
   "source": [
    "# solve for mu and cov\n",
    "mu1x = (np.sum(obs[0,:] * obs[2,:]))/N1\n",
    "mu1y = (np.sum(obs[1,:] * obs[2,:]))/N2\n",
    "mu1 = np.array([mu1x, mu1y])\n",
    "\n",
    "mu2x = (np.sum(obs[0,:] * (1 - (obs[2,:]))))/N1\n",
    "mu2y = (np.sum(obs[1,:] * (1 - (obs[2,:]))))/N2\n",
    "mu2 = np.array([mu2x, mu2y])\n",
    "\n",
    "hund1 = np.ones(N1)\n",
    "hund2 = np.ones(N2)\n",
    "mu1hund = np.array([hund1*mu1x,hund1*mu1y])\n",
    "mu2hund = np.array([hund2*mu2x,hund2*mu2y])\n",
    "\n",
    "omit0 = ((1 <= obs[2,:]))\n",
    "omit1 = ((0 >= obs[2,:]))\n",
    "\n",
    "S1 = ((obs[0:2, omit0] - mu1hund) @ (obs[0:2, omit0] - mu1hund).T)/N1\n",
    "S2 = ((obs[0:2, omit1] - mu2hund) @ (obs[0:2, omit1] - mu2hund).T)/N2\n",
    "S = (N1/numObs)*S1 + (N2/numObs)*S2"
   ]
  },
  {
   "cell_type": "code",
   "execution_count": 4,
   "metadata": {},
   "outputs": [
    {
     "name": "stdout",
     "output_type": "stream",
     "text": [
      "Gaussian Generative Model % Correct:  0.95\n"
     ]
    }
   ],
   "source": [
    "# solve for pi\n",
    "pie1 = N1/(N1+N2)\n",
    "pie2 = N2/(N1+N2)\n",
    "\n",
    "# solve for alpha\n",
    "mu1mu2 = np.array([mu1x-mu2x, mu1y-mu2y])\n",
    "w = np.linalg.inv(S)@(mu1mu2).T\n",
    "w0 = (-1/2)*(mu1)@np.linalg.inv(S)@(mu1).T + (1/2)*(mu2)@np.linalg.inv(S)@(mu2).T + np.log(pie1/pie2)\n",
    "a = (w.T@obs[0:2,:]) + w0\n",
    "\n",
    "# solve for sigmoid\n",
    "sig = 1/(1+(np.exp(-a)))\n",
    "\n",
    "# determine correctness\n",
    "check = np.vstack([obs, sig])\n",
    "count = 0\n",
    "\n",
    "for i in range(0,numObs):\n",
    "    if check[2,i] == 1 and check[3,i] > .5:\n",
    "        count += 1\n",
    "    if check[2,i] == 0 and check[3,i] < .5:\n",
    "        count += 1 \n",
    "    \n",
    "perCor = count/numObs\n",
    "\n",
    "print(\"Gaussian Generative Model % Correct: \", perCor)"
   ]
  },
  {
   "cell_type": "markdown",
   "metadata": {},
   "source": [
    "## Logistic Regression Classifier"
   ]
  },
  {
   "cell_type": "code",
   "execution_count": 5,
   "metadata": {
    "scrolled": false
   },
   "outputs": [
    {
     "name": "stdout",
     "output_type": "stream",
     "text": [
      "Logistic Regression Classifier % Correct:  0.96\n"
     ]
    }
   ],
   "source": [
    "# setup design matrix based on linear basis function [1, X, Y]\n",
    "phi = np.concatenate((np.atleast_2d(np.ones(numObs)).T, np.atleast_2d(obs[0,:]).T, np.atleast_2d(obs[1,:]).T), axis=1)\n",
    "# setup prior input\n",
    "wold = np.atleast_2d(np.concatenate((np.ones(1), np.ones(1), np.ones(1)))).T\n",
    "\n",
    "#iterative step (20 iterations)\n",
    "for i in range(0, 20):\n",
    "\n",
    "    a = wold.T @ phi.T                  # alpha formula (w.T)(phi)\n",
    "    y = 1/(1+(np.exp(-a)))              # y = sigmoid = 1/(1+exp(-a))\n",
    "    R = np.zeros(numObs)                # R = revised weighting matrix\n",
    "    for j in range(0,numObs):\n",
    "        R[j] = y[0,j]*(1-y[0,j])\n",
    "    R = np.diag(R)\n",
    "    z = (phi@wold) - (np.linalg.inv(R) @ (y-obs[2,:]).T)\n",
    "    wold = (np.linalg.inv(phi.T@R@phi))@phi.T@R@z\n",
    "\n",
    "# solve for sigma with new final weights\n",
    "af = wold.T @ phi.T\n",
    "sigf = 1/(1+(np.exp(-a)))\n",
    "\n",
    "# determine correctnes\n",
    "check = np.vstack([obs, sigf])\n",
    "count = 0\n",
    "\n",
    "for i in range(0,numObs):\n",
    "    if check[2,i] == 1 and check[3,i] > .5:\n",
    "        count += 1\n",
    "    if check[2,i] == 0 and check[3,i] < .5:\n",
    "        count += 1\n",
    "\n",
    "perCor = count/numObs\n",
    "\n",
    "print(\"Logistic Regression Classifier % Correct: \", perCor)"
   ]
  }
 ],
 "metadata": {
  "kernelspec": {
   "display_name": "Python 3",
   "language": "python",
   "name": "python3"
  },
  "language_info": {
   "codemirror_mode": {
    "name": "ipython",
    "version": 3
   },
   "file_extension": ".py",
   "mimetype": "text/x-python",
   "name": "python",
   "nbconvert_exporter": "python",
   "pygments_lexer": "ipython3",
   "version": "3.6.1"
  }
 },
 "nbformat": 4,
 "nbformat_minor": 2
}
